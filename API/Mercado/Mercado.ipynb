{
 "cells": [
  {
   "cell_type": "code",
   "execution_count": 1,
   "id": "74ef888c-9342-4c88-bdc6-751d94752cbc",
   "metadata": {},
   "outputs": [],
   "source": [
    "import os\n",
    "import sys\n",
    "import requests as req\n",
    "import subprocess\n",
    "import json\n",
    "from bs4 import BeautifulSoup\n",
    "import pandas as pd\n",
    "\n",
    "import seaborn as sn\n",
    "from matplotlib import pyplot as plt\n",
    "\n",
    "import re\n",
    "\n",
    "#https://mister.mundodeportivo.com/players/_id/name"
   ]
  },
  {
   "cell_type": "code",
   "execution_count": 2,
   "id": "98464973-81b5-42b1-adb5-fdfbd78e32b3",
   "metadata": {},
   "outputs": [
    {
     "name": "stderr",
     "output_type": "stream",
     "text": [
      "  % Total    % Received % Xferd  Average Speed   Time    Time     Time  Current\n",
      "                                 Dload  Upload   Total   Spent    Left  Speed\n",
      "100 54854    0 54854    0     0   205k      0 --:--:-- --:--:-- --:--:--  211k\n"
     ]
    },
    {
     "data": {
      "text/plain": [
       "[{'id': '55041', 'name': 'samu-omorodion'},\n",
       " {'id': '4886', 'name': 'asier-villalibre'},\n",
       " {'id': '52188', 'name': 'selim-amallah'},\n",
       " {'id': '334', 'name': 'sergio-ramos'},\n",
       " {'id': '19168', 'name': 'nemanja-gudelj'},\n",
       " {'id': '18223', 'name': 'lucas-ocampos'},\n",
       " {'id': '36377', 'name': 'myrto-uzuni'},\n",
       " {'id': '49', 'name': 'angel-correa'},\n",
       " {'id': '3060', 'name': 'mariano-diaz'},\n",
       " {'id': '448', 'name': 'alvaro-negredo'},\n",
       " {'id': '53340', 'name': 'cristian-herrera'},\n",
       " {'id': '49077', 'name': 'malcom-adu-ares'},\n",
       " {'id': '53407', 'name': 'ilkay-guendogan'},\n",
       " {'id': '22502', 'name': 'alex-baena'},\n",
       " {'id': '343', 'name': 'toni-kroos'},\n",
       " {'id': '49336', 'name': 'oriol-romeu'},\n",
       " {'id': '14789', 'name': 'oihan-sancet'},\n",
       " {'id': '3728', 'name': 'marc-roca'},\n",
       " {'id': '49275', 'name': 'andre-almeida'},\n",
       " {'id': '73', 'name': 'ivan-rakitic'},\n",
       " {'id': '12911', 'name': 'gonzalo-melero'},\n",
       " {'id': '17989', 'name': 'jorge-de-frutos'},\n",
       " {'id': '20111', 'name': 'erik-lamela'},\n",
       " {'id': '55452', 'name': 'sergi-canos'},\n",
       " {'id': '12941', 'name': 'oscar-trejo'},\n",
       " {'id': '54817', 'name': 'arda-gueler'},\n",
       " {'id': '55462', 'name': 'silvi-clua'},\n",
       " {'id': '29205', 'name': 'alejandro-balde'},\n",
       " {'id': '7784', 'name': 'unai-nunez'},\n",
       " {'id': '53110', 'name': 'alex-suarez'},\n",
       " {'id': '11092', 'name': 'andoni-gorosabel'},\n",
       " {'id': '15693', 'name': 'javi-galan'},\n",
       " {'id': '5653', 'name': 'toni-lato'},\n",
       " {'id': '19514', 'name': 'carlos-neva'},\n",
       " {'id': '54897', 'name': 'siebe-van-der-heyden'},\n",
       " {'id': '49342', 'name': 'abdul-mumin'},\n",
       " {'id': '49040', 'name': 'momo-mbaye'},\n",
       " {'id': '17615', 'name': 'sergio-herrera'},\n",
       " {'id': '56', 'name': 'claudio-bravo'}]"
      ]
     },
     "execution_count": 2,
     "metadata": {},
     "output_type": "execute_result"
    }
   ],
   "source": [
    "out = subprocess.run([\"bash\", \"curl.sh\"], stdout=subprocess.PIPE).stdout\n",
    "\n",
    "soup = BeautifulSoup(out, features='html.parser')\n",
    "html = str(soup.html)\n",
    "\n",
    "a = re.findall('players/\\\\d+/[-\\\\w]+', html)\n",
    "players = []\n",
    "\n",
    "for s in a:\n",
    "    _, _id, name = s.split('/')\n",
    "    player = {}\n",
    "    player['id'] = _id\n",
    "    player['name'] = name\n",
    "    \n",
    "    players.append(player)\n",
    "    \n",
    "players"
   ]
  },
  {
   "cell_type": "code",
   "execution_count": 67,
   "id": "9a15adb1-c6b8-4727-a5a1-23fe33f0210e",
   "metadata": {},
   "outputs": [
    {
     "data": {
      "text/plain": [
       "'18223'"
      ]
     },
     "metadata": {},
     "output_type": "display_data"
    },
    {
     "data": {
      "text/plain": [
       "'lucas-ocampos'"
      ]
     },
     "metadata": {},
     "output_type": "display_data"
    }
   ],
   "source": [
    "display(players[0]['id'])\n",
    "display(players[0]['name'])"
   ]
  },
  {
   "cell_type": "code",
   "execution_count": 68,
   "id": "9bceeceb-8dfa-4a9c-8f9c-7f76b9a8dc39",
   "metadata": {},
   "outputs": [
    {
     "data": {
      "text/plain": [
       "40"
      ]
     },
     "execution_count": 68,
     "metadata": {},
     "output_type": "execute_result"
    }
   ],
   "source": [
    "len(players)"
   ]
  },
  {
   "cell_type": "code",
   "execution_count": 69,
   "id": "275a86be-f7aa-4aee-a593-aa68a7b939a2",
   "metadata": {},
   "outputs": [],
   "source": [
    "def set_url (url,i):\n",
    "    url = \"https://mister.mundodeportivo.com/players/\"+players[i]['id']+\"/\"+players[i]['name']\n",
    "    return url"
   ]
  },
  {
   "cell_type": "code",
   "execution_count": null,
   "id": "d3b9930d-1639-471f-b717-a262dfc3e55c",
   "metadata": {},
   "outputs": [],
   "source": []
  },
  {
   "cell_type": "code",
   "execution_count": 70,
   "id": "c41bba39-8fb4-4c52-be0e-c9286de2e829",
   "metadata": {},
   "outputs": [
    {
     "name": "stdout",
     "output_type": "stream",
     "text": [
      "$1\n"
     ]
    },
    {
     "data": {
      "text/plain": [
       "CompletedProcess(args=['echo', '$1'], returncode=0)"
      ]
     },
     "execution_count": 70,
     "metadata": {},
     "output_type": "execute_result"
    }
   ],
   "source": [
    "subprocess.run([\"echo\", \"$1\"], text=True, input=\"2\")"
   ]
  },
  {
   "cell_type": "code",
   "execution_count": 71,
   "id": "e8e47e7a-7f8a-496c-940e-ec84f753440b",
   "metadata": {},
   "outputs": [
    {
     "name": "stderr",
     "output_type": "stream",
     "text": [
      "  % Total    % Received % Xferd  Average Speed   Time    Time     Time  Current\n",
      "                                 Dload  Upload   Total   Spent    Left  Speed\n",
      "100 47918    0 47918    0     0   134k      0 --:--:-- --:--:-- --:--:--  135k\n",
      "  % Total    % Received % Xferd  Average Speed   Time    Time     Time  Current\n",
      "                                 Dload  Upload   Total   Spent    Left  Speed\n",
      "100 48356    0 48356    0     0   191k      0 --:--:-- --:--:-- --:--:--  194k\n",
      "  % Total    % Received % Xferd  Average Speed   Time    Time     Time  Current\n",
      "                                 Dload  Upload   Total   Spent    Left  Speed\n",
      "100 47562    0 47562    0     0   165k      0 --:--:-- --:--:-- --:--:--  167k\n",
      "  % Total    % Received % Xferd  Average Speed   Time    Time     Time  Current\n",
      "                                 Dload  Upload   Total   Spent    Left  Speed\n",
      "100 47503    0 47503    0     0   135k      0 --:--:-- --:--:-- --:--:--  136k\n",
      "  % Total    % Received % Xferd  Average Speed   Time    Time     Time  Current\n",
      "                                 Dload  Upload   Total   Spent    Left  Speed\n",
      "100 46979    0 46979    0     0   172k      0 --:--:-- --:--:-- --:--:--  174k\n",
      "  % Total    % Received % Xferd  Average Speed   Time    Time     Time  Current\n",
      "                                 Dload  Upload   Total   Spent    Left  Speed\n",
      "100 47303    0 47303    0     0   131k      0 --:--:-- --:--:-- --:--:--  132k\n",
      "  % Total    % Received % Xferd  Average Speed   Time    Time     Time  Current\n",
      "                                 Dload  Upload   Total   Spent    Left  Speed\n",
      "100 48753    0 48753    0     0   132k      0 --:--:-- --:--:-- --:--:--  133k\n",
      "  % Total    % Received % Xferd  Average Speed   Time    Time     Time  Current\n",
      "                                 Dload  Upload   Total   Spent    Left  Speed\n",
      "100 46805    0 46805    0     0   186k      0 --:--:-- --:--:-- --:--:--  189k\n",
      "  % Total    % Received % Xferd  Average Speed   Time    Time     Time  Current\n",
      "                                 Dload  Upload   Total   Spent    Left  Speed\n",
      "100 48890    0 48890    0     0   127k      0 --:--:-- --:--:-- --:--:--  128k\n",
      "  % Total    % Received % Xferd  Average Speed   Time    Time     Time  Current\n",
      "                                 Dload  Upload   Total   Spent    Left  Speed\n",
      "100 46618    0 46618    0     0   180k      0 --:--:-- --:--:-- --:--:--  182k\n",
      "  % Total    % Received % Xferd  Average Speed   Time    Time     Time  Current\n",
      "                                 Dload  Upload   Total   Spent    Left  Speed\n",
      "100 47192    0 47192    0     0   127k      0 --:--:-- --:--:-- --:--:--  128k\n",
      "  % Total    % Received % Xferd  Average Speed   Time    Time     Time  Current\n",
      "                                 Dload  Upload   Total   Spent    Left  Speed\n",
      "100 48904    0 48904    0     0   134k      0 --:--:-- --:--:-- --:--:--  135k\n",
      "  % Total    % Received % Xferd  Average Speed   Time    Time     Time  Current\n",
      "                                 Dload  Upload   Total   Spent    Left  Speed\n",
      "100 48684    0 48684    0     0   133k      0 --:--:-- --:--:-- --:--:--  134k\n",
      "  % Total    % Received % Xferd  Average Speed   Time    Time     Time  Current\n",
      "                                 Dload  Upload   Total   Spent    Left  Speed\n",
      "100 48913    0 48913    0     0   169k      0 --:--:-- --:--:-- --:--:--  171k\n",
      "  % Total    % Received % Xferd  Average Speed   Time    Time     Time  Current\n",
      "                                 Dload  Upload   Total   Spent    Left  Speed\n",
      "100 47454    0 47454    0     0   140k      0 --:--:-- --:--:-- --:--:--  141k\n",
      "  % Total    % Received % Xferd  Average Speed   Time    Time     Time  Current\n",
      "                                 Dload  Upload   Total   Spent    Left  Speed\n",
      "100 48414    0 48414    0     0   127k      0 --:--:-- --:--:-- --:--:--  128k\n",
      "  % Total    % Received % Xferd  Average Speed   Time    Time     Time  Current\n",
      "                                 Dload  Upload   Total   Spent    Left  Speed\n",
      "100 48034    0 48034    0     0   187k      0 --:--:-- --:--:-- --:--:--  189k\n",
      "  % Total    % Received % Xferd  Average Speed   Time    Time     Time  Current\n",
      "                                 Dload  Upload   Total   Spent    Left  Speed\n",
      "100 48269    0 48269    0     0   130k      0 --:--:-- --:--:-- --:--:--  131k\n",
      "  % Total    % Received % Xferd  Average Speed   Time    Time     Time  Current\n",
      "                                 Dload  Upload   Total   Spent    Left  Speed\n",
      "100 48992    0 48992    0     0   133k      0 --:--:-- --:--:-- --:--:--  135k\n",
      "  % Total    % Received % Xferd  Average Speed   Time    Time     Time  Current\n",
      "                                 Dload  Upload   Total   Spent    Left  Speed\n",
      "100 47705    0 47705    0     0   192k      0 --:--:-- --:--:-- --:--:--  194k\n",
      "  % Total    % Received % Xferd  Average Speed   Time    Time     Time  Current\n",
      "                                 Dload  Upload   Total   Spent    Left  Speed\n",
      "100 49026    0 49026    0     0   128k      0 --:--:-- --:--:-- --:--:--  129k\n",
      "  % Total    % Received % Xferd  Average Speed   Time    Time     Time  Current\n",
      "                                 Dload  Upload   Total   Spent    Left  Speed\n",
      "100 47322    0 47322    0     0   129k      0 --:--:-- --:--:-- --:--:--  130k\n",
      "  % Total    % Received % Xferd  Average Speed   Time    Time     Time  Current\n",
      "                                 Dload  Upload   Total   Spent    Left  Speed\n",
      "100 48923    0 48923    0     0   176k      0 --:--:-- --:--:-- --:--:--  177k\n",
      "  % Total    % Received % Xferd  Average Speed   Time    Time     Time  Current\n",
      "                                 Dload  Upload   Total   Spent    Left  Speed\n",
      "100 48545    0 48545    0     0   185k      0 --:--:-- --:--:-- --:--:--  188k\n",
      "  % Total    % Received % Xferd  Average Speed   Time    Time     Time  Current\n",
      "                                 Dload  Upload   Total   Spent    Left  Speed\n",
      "100 48640    0 48640    0     0   135k      0 --:--:-- --:--:-- --:--:--  136k\n",
      "  % Total    % Received % Xferd  Average Speed   Time    Time     Time  Current\n",
      "                                 Dload  Upload   Total   Spent    Left  Speed\n",
      "100 48250    0 48250    0     0   184k      0 --:--:-- --:--:-- --:--:--  185k\n",
      "  % Total    % Received % Xferd  Average Speed   Time    Time     Time  Current\n",
      "                                 Dload  Upload   Total   Spent    Left  Speed\n",
      "100 47102    0 47102    0     0   127k      0 --:--:-- --:--:-- --:--:--  129k\n",
      "  % Total    % Received % Xferd  Average Speed   Time    Time     Time  Current\n",
      "                                 Dload  Upload   Total   Spent    Left  Speed\n",
      "100 46126    0 46126    0     0   174k      0 --:--:-- --:--:-- --:--:--  176k\n",
      "  % Total    % Received % Xferd  Average Speed   Time    Time     Time  Current\n",
      "                                 Dload  Upload   Total   Spent    Left  Speed\n",
      "100 46090    0 46090    0     0   227k      0 --:--:-- --:--:-- --:--:--  230k\n",
      "  % Total    % Received % Xferd  Average Speed   Time    Time     Time  Current\n",
      "                                 Dload  Upload   Total   Spent    Left  Speed\n",
      "100 48628    0 48628    0     0   145k      0 --:--:-- --:--:-- --:--:--  147k\n",
      "  % Total    % Received % Xferd  Average Speed   Time    Time     Time  Current\n",
      "                                 Dload  Upload   Total   Spent    Left  Speed\n",
      "100 47149    0 47149    0     0   207k      0 --:--:-- --:--:-- --:--:--  210k\n",
      "  % Total    % Received % Xferd  Average Speed   Time    Time     Time  Current\n",
      "                                 Dload  Upload   Total   Spent    Left  Speed\n",
      "100 48218    0 48218    0     0   158k      0 --:--:-- --:--:-- --:--:--  159k\n",
      "  % Total    % Received % Xferd  Average Speed   Time    Time     Time  Current\n",
      "                                 Dload  Upload   Total   Spent    Left  Speed\n",
      "100 46249    0 46249    0     0   216k      0 --:--:-- --:--:-- --:--:--  220k\n",
      "  % Total    % Received % Xferd  Average Speed   Time    Time     Time  Current\n",
      "                                 Dload  Upload   Total   Spent    Left  Speed\n",
      "100 48512    0 48512    0     0   115k      0 --:--:-- --:--:-- --:--:--  116k\n",
      "  % Total    % Received % Xferd  Average Speed   Time    Time     Time  Current\n",
      "                                 Dload  Upload   Total   Spent    Left  Speed\n",
      "100 47089    0 47089    0     0   128k      0 --:--:-- --:--:-- --:--:--  129k\n",
      "  % Total    % Received % Xferd  Average Speed   Time    Time     Time  Current\n",
      "                                 Dload  Upload   Total   Spent    Left  Speed\n",
      "100 47796    0 47796    0     0   130k      0 --:--:-- --:--:-- --:--:--  131k\n",
      "  % Total    % Received % Xferd  Average Speed   Time    Time     Time  Current\n",
      "                                 Dload  Upload   Total   Spent    Left  Speed\n",
      "100 48204    0 48204    0     0   179k      0 --:--:-- --:--:-- --:--:--  181k\n",
      "  % Total    % Received % Xferd  Average Speed   Time    Time     Time  Current\n",
      "                                 Dload  Upload   Total   Spent    Left  Speed\n",
      "100 48340    0 48340    0     0   156k      0 --:--:-- --:--:-- --:--:--  158k\n",
      "  % Total    % Received % Xferd  Average Speed   Time    Time     Time  Current\n",
      "                                 Dload  Upload   Total   Spent    Left  Speed\n",
      "100 48625    0 48625    0     0   154k      0 --:--:-- --:--:-- --:--:--  156k\n",
      "  % Total    % Received % Xferd  Average Speed   Time    Time     Time  Current\n",
      "                                 Dload  Upload   Total   Spent    Left  Speed\n",
      "100 47591    0 47591    0     0   131k      0 --:--:-- --:--:-- --:--:--  132k\n"
     ]
    }
   ],
   "source": [
    "url\n",
    "data_players = []\n",
    "\n",
    "for i in range(0,len(players)):\n",
    "    url = set_url (a, i)\n",
    "    data_players.append(subprocess.run([\"bash\", \"_curl.sh\", url], stdout=subprocess.PIPE).stdout)\n",
    "    #print(data_players[i])"
   ]
  },
  {
   "cell_type": "code",
   "execution_count": 72,
   "id": "326f886c-dcb5-4746-98c2-eaf444dedd28",
   "metadata": {},
   "outputs": [
    {
     "data": {
      "text/plain": [
       "'117.000'"
      ]
     },
     "execution_count": 72,
     "metadata": {},
     "output_type": "execute_result"
    }
   ],
   "source": [
    "out = str(data_players[0])\n",
    "\n",
    "\n",
    "subida    = re.findall('t[-+]?\\d+\\.\\d+', out)\n",
    "_, number = subida[0].split('t')\n",
    "\n",
    "number"
   ]
  }
 ],
 "metadata": {
  "kernelspec": {
   "display_name": "Python 3 (ipykernel)",
   "language": "python",
   "name": "python3"
  },
  "language_info": {
   "codemirror_mode": {
    "name": "ipython",
    "version": 3
   },
   "file_extension": ".py",
   "mimetype": "text/x-python",
   "name": "python",
   "nbconvert_exporter": "python",
   "pygments_lexer": "ipython3",
   "version": "3.8.13"
  }
 },
 "nbformat": 4,
 "nbformat_minor": 5
}
