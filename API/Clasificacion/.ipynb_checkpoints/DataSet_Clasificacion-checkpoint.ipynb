{
 "cells": [
  {
   "cell_type": "code",
   "execution_count": 67,
   "id": "118251ac-a9ec-40ef-aacb-722b3415d9bc",
   "metadata": {},
   "outputs": [],
   "source": [
    "import os\n",
    "import sys\n",
    "import requests as req\n",
    "import subprocess\n",
    "import json\n",
    "import pandas as pd\n",
    "\n",
    "import seaborn as sn"
   ]
  },
  {
   "cell_type": "code",
   "execution_count": 68,
   "id": "382176f6-a2ff-4372-834c-f50e07fff735",
   "metadata": {},
   "outputs": [
    {
     "name": "stderr",
     "output_type": "stream",
     "text": [
      "  % Total    % Received % Xferd  Average Speed   Time    Time     Time  Current\n",
      "                                 Dload  Upload   Total   Spent    Left  Speed\n",
      "100  1140    0  1124  100    16   7834    111 --:--:-- --:--:-- --:--:--  8444\n"
     ]
    },
    {
     "data": {
      "text/plain": [
       "{'progression': {'gameweeks': [1, 2, 3, 4, 5, 6],\n",
       "  'users': {'9002665': {'name': 'RulilloElPillo',\n",
       "    'color': '#BDBDBD',\n",
       "    'style': 'crossRot',\n",
       "    'avatar': {'color': '#BDBDBD',\n",
       "     'initials': 'R',\n",
       "     'pic': 'https://cdn.gomister.com/file/cdn-mister/users/6115266115965.png'},\n",
       "    'progression': {'1': {'points': 23, 'total': 23, 'position': 5},\n",
       "     '2': {'points': 28, 'total': 51, 'position': 9},\n",
       "     '3': {'points': 38, 'total': 89, 'position': 7},\n",
       "     '4': {'points': 37, 'total': 126, 'position': 7},\n",
       "     '5': {'points': 41, 'total': 167, 'position': 7},\n",
       "     '6': {'points': 35, 'total': 202, 'position': 8}},\n",
       "    'points': 202},\n",
       "   '9002689': {'name': 'CORTIJO',\n",
       "    'color': '#BA68C8',\n",
       "    'style': 'star',\n",
       "    'avatar': {'color': '#BA68C8',\n",
       "     'initials': 'C',\n",
       "     'pic': 'https://cdn.gomister.com/file/cdn-mister/users/62cebe4f2ff73.png'},\n",
       "    'progression': {'1': {'points': 19, 'total': 19, 'position': 8},\n",
       "     '2': {'points': 48, 'total': 67, 'position': 6},\n",
       "     '3': {'points': 33, 'total': 100, 'position': 6},\n",
       "     '4': {'points': 43, 'total': 143, 'position': 6},\n",
       "     '5': {'points': 45, 'total': 188, 'position': 6},\n",
       "     '6': {'points': 33, 'total': 221, 'position': 6}},\n",
       "    'points': 221},\n",
       "   '9002697': {'name': '_.jorgeortiz._',\n",
       "    'color': '#64B5F6',\n",
       "    'style': 'circle',\n",
       "    'avatar': {'color': '#64B5F6',\n",
       "     'initials': '_',\n",
       "     'pic': 'https://cdn.gomister.com/file/cdn-mister/users/636474009b0b0.png'},\n",
       "    'progression': {'1': {'points': 23, 'total': 23, 'position': 6},\n",
       "     '2': {'points': 36, 'total': 59, 'position': 8},\n",
       "     '3': {'points': 0, 'total': 59, 'position': 9},\n",
       "     '4': {'points': 35, 'total': 94, 'position': 9},\n",
       "     '5': {'points': 30, 'total': 124, 'position': 9},\n",
       "     '6': {'points': 59, 'total': 183, 'position': 9}},\n",
       "    'points': 183},\n",
       "   '9002702': {'name': 'Adri4K_Mister',\n",
       "    'color': '#FF8A65',\n",
       "    'style': 'star',\n",
       "    'avatar': {'color': '#FF8A65',\n",
       "     'initials': 'A',\n",
       "     'pic': 'https://cdn.gomister.com/file/cdn-mister/users/61169327e9dce.png'},\n",
       "    'progression': {'1': {'points': 27, 'total': 27, 'position': 4},\n",
       "     '2': {'points': 35, 'total': 62, 'position': 7},\n",
       "     '3': {'points': 26, 'total': 88, 'position': 8},\n",
       "     '4': {'points': 33, 'total': 121, 'position': 8},\n",
       "     '5': {'points': 36, 'total': 157, 'position': 8},\n",
       "     '6': {'points': 48, 'total': 205, 'position': 7}},\n",
       "    'points': 205},\n",
       "   '9002711': {'name': 'Frangf18',\n",
       "    'color': '#DCE775',\n",
       "    'style': 'crossRot',\n",
       "    'avatar': {'color': '#DCE775', 'initials': 'F', 'pic': None},\n",
       "    'progression': {'1': {'points': 44, 'total': 44, 'position': 2},\n",
       "     '2': {'points': 45, 'total': 89, 'position': 1},\n",
       "     '3': {'points': 53, 'total': 142, 'position': 1},\n",
       "     '4': {'points': 44, 'total': 186, 'position': 1},\n",
       "     '5': {'points': 66, 'total': 252, 'position': 1},\n",
       "     '6': {'points': 53, 'total': 305, 'position': 1}},\n",
       "    'points': 305},\n",
       "   '9002717': {'name': 'Roberto',\n",
       "    'color': '#E0E0E0',\n",
       "    'style': 'rectRot',\n",
       "    'avatar': {'color': '#E0E0E0',\n",
       "     'initials': 'R',\n",
       "     'pic': 'https://cdn.gomister.com/file/cdn-mister/users/611798f16a8da.png'},\n",
       "    'progression': {'1': {'points': 51, 'total': 51, 'position': 1},\n",
       "     '2': {'points': 34, 'total': 85, 'position': 2},\n",
       "     '3': {'points': 47, 'total': 132, 'position': 2},\n",
       "     '4': {'points': 46, 'total': 178, 'position': 2},\n",
       "     '5': {'points': 16, 'total': 194, 'position': 5},\n",
       "     '6': {'points': 38, 'total': 232, 'position': 5}},\n",
       "    'points': 232},\n",
       "   '9002795': {'name': 'AndresPB8',\n",
       "    'color': '#FFB74D',\n",
       "    'style': 'crossRot',\n",
       "    'avatar': {'color': '#FFB74D',\n",
       "     'initials': 'A',\n",
       "     'pic': 'https://cdn.gomister.com/file/cdn-mister/users/611eda8d0ee76.png'},\n",
       "    'progression': {'1': {'points': 20, 'total': 20, 'position': 7},\n",
       "     '2': {'points': 52, 'total': 72, 'position': 5},\n",
       "     '3': {'points': 36, 'total': 108, 'position': 5},\n",
       "     '4': {'points': 43, 'total': 151, 'position': 5},\n",
       "     '5': {'points': 48, 'total': 199, 'position': 4},\n",
       "     '6': {'points': 50, 'total': 249, 'position': 3}},\n",
       "    'points': 249},\n",
       "   '9003089': {'name': 'juamonchi',\n",
       "    'color': '#FF8A65',\n",
       "    'style': 'crossRot',\n",
       "    'avatar': {'color': '#FF8A65',\n",
       "     'initials': 'J',\n",
       "     'pic': 'https://cdn.gomister.com/file/cdn-mister/users/611797f01858e.png'},\n",
       "    'progression': {'1': {'points': 44, 'total': 44, 'position': 3},\n",
       "     '2': {'points': 32, 'total': 76, 'position': 4},\n",
       "     '3': {'points': 44, 'total': 120, 'position': 4},\n",
       "     '4': {'points': 41, 'total': 161, 'position': 4},\n",
       "     '5': {'points': 54, 'total': 215, 'position': 3},\n",
       "     '6': {'points': 30, 'total': 245, 'position': 4}},\n",
       "    'points': 245},\n",
       "   '12365255': {'name': 'Juan Carlos ',\n",
       "    'color': '#E0E0E0',\n",
       "    'style': 'star',\n",
       "    'avatar': {'color': '#E0E0E0',\n",
       "     'initials': 'JC',\n",
       "     'pic': 'https://cdn.gomister.com/file/cdn-mister/users/64d4bce548ef5.png'},\n",
       "    'progression': {'1': {'points': 13, 'total': 13, 'position': 9},\n",
       "     '2': {'points': 64, 'total': 77, 'position': 3},\n",
       "     '3': {'points': 53, 'total': 130, 'position': 3},\n",
       "     '4': {'points': 37, 'total': 167, 'position': 3},\n",
       "     '5': {'points': 73, 'total': 240, 'position': 2},\n",
       "     '6': {'points': 57, 'total': 297, 'position': 2}},\n",
       "    'points': 297},\n",
       "   '12505301': {'name': 'pablitoo',\n",
       "    'color': '#E0E0E0',\n",
       "    'style': 'circle',\n",
       "    'avatar': {'color': '#E0E0E0',\n",
       "     'initials': 'P',\n",
       "     'pic': 'https://cdn.gomister.com/file/cdn-mister/users/64f366c53ff78.png'},\n",
       "    'progression': {'4': {'points': 29, 'total': 29, 'position': 10},\n",
       "     '5': {'points': 27, 'total': 56, 'position': 10},\n",
       "     '6': {'points': 33, 'total': 89, 'position': 10}},\n",
       "    'points': 89}},\n",
       "  'table': [{'name': 'Frangf18',\n",
       "    'color': '#DCE775',\n",
       "    'style': 'crossRot',\n",
       "    'avatar': {'color': '#DCE775', 'initials': 'F', 'pic': None},\n",
       "    'progression': {'1': {'points': 44, 'total': 44, 'position': 2},\n",
       "     '2': {'points': 45, 'total': 89, 'position': 1},\n",
       "     '3': {'points': 53, 'total': 142, 'position': 1},\n",
       "     '4': {'points': 44, 'total': 186, 'position': 1},\n",
       "     '5': {'points': 66, 'total': 252, 'position': 1},\n",
       "     '6': {'points': 53, 'total': 305, 'position': 1}},\n",
       "    'points': 305},\n",
       "   {'name': 'Juan Carlos ',\n",
       "    'color': '#E0E0E0',\n",
       "    'style': 'star',\n",
       "    'avatar': {'color': '#E0E0E0',\n",
       "     'initials': 'JC',\n",
       "     'pic': 'https://cdn.gomister.com/file/cdn-mister/users/64d4bce548ef5.png'},\n",
       "    'progression': {'1': {'points': 13, 'total': 13, 'position': 9},\n",
       "     '2': {'points': 64, 'total': 77, 'position': 3},\n",
       "     '3': {'points': 53, 'total': 130, 'position': 3},\n",
       "     '4': {'points': 37, 'total': 167, 'position': 3},\n",
       "     '5': {'points': 73, 'total': 240, 'position': 2},\n",
       "     '6': {'points': 57, 'total': 297, 'position': 2}},\n",
       "    'points': 297},\n",
       "   {'name': 'AndresPB8',\n",
       "    'color': '#FFB74D',\n",
       "    'style': 'crossRot',\n",
       "    'avatar': {'color': '#FFB74D',\n",
       "     'initials': 'A',\n",
       "     'pic': 'https://cdn.gomister.com/file/cdn-mister/users/611eda8d0ee76.png'},\n",
       "    'progression': {'1': {'points': 20, 'total': 20, 'position': 7},\n",
       "     '2': {'points': 52, 'total': 72, 'position': 5},\n",
       "     '3': {'points': 36, 'total': 108, 'position': 5},\n",
       "     '4': {'points': 43, 'total': 151, 'position': 5},\n",
       "     '5': {'points': 48, 'total': 199, 'position': 4},\n",
       "     '6': {'points': 50, 'total': 249, 'position': 3}},\n",
       "    'points': 249},\n",
       "   {'name': 'juamonchi',\n",
       "    'color': '#FF8A65',\n",
       "    'style': 'crossRot',\n",
       "    'avatar': {'color': '#FF8A65',\n",
       "     'initials': 'J',\n",
       "     'pic': 'https://cdn.gomister.com/file/cdn-mister/users/611797f01858e.png'},\n",
       "    'progression': {'1': {'points': 44, 'total': 44, 'position': 3},\n",
       "     '2': {'points': 32, 'total': 76, 'position': 4},\n",
       "     '3': {'points': 44, 'total': 120, 'position': 4},\n",
       "     '4': {'points': 41, 'total': 161, 'position': 4},\n",
       "     '5': {'points': 54, 'total': 215, 'position': 3},\n",
       "     '6': {'points': 30, 'total': 245, 'position': 4}},\n",
       "    'points': 245},\n",
       "   {'name': 'Roberto',\n",
       "    'color': '#E0E0E0',\n",
       "    'style': 'rectRot',\n",
       "    'avatar': {'color': '#E0E0E0',\n",
       "     'initials': 'R',\n",
       "     'pic': 'https://cdn.gomister.com/file/cdn-mister/users/611798f16a8da.png'},\n",
       "    'progression': {'1': {'points': 51, 'total': 51, 'position': 1},\n",
       "     '2': {'points': 34, 'total': 85, 'position': 2},\n",
       "     '3': {'points': 47, 'total': 132, 'position': 2},\n",
       "     '4': {'points': 46, 'total': 178, 'position': 2},\n",
       "     '5': {'points': 16, 'total': 194, 'position': 5},\n",
       "     '6': {'points': 38, 'total': 232, 'position': 5}},\n",
       "    'points': 232},\n",
       "   {'name': 'CORTIJO',\n",
       "    'color': '#BA68C8',\n",
       "    'style': 'star',\n",
       "    'avatar': {'color': '#BA68C8',\n",
       "     'initials': 'C',\n",
       "     'pic': 'https://cdn.gomister.com/file/cdn-mister/users/62cebe4f2ff73.png'},\n",
       "    'progression': {'1': {'points': 19, 'total': 19, 'position': 8},\n",
       "     '2': {'points': 48, 'total': 67, 'position': 6},\n",
       "     '3': {'points': 33, 'total': 100, 'position': 6},\n",
       "     '4': {'points': 43, 'total': 143, 'position': 6},\n",
       "     '5': {'points': 45, 'total': 188, 'position': 6},\n",
       "     '6': {'points': 33, 'total': 221, 'position': 6}},\n",
       "    'points': 221},\n",
       "   {'name': 'Adri4K_Mister',\n",
       "    'color': '#FF8A65',\n",
       "    'style': 'star',\n",
       "    'avatar': {'color': '#FF8A65',\n",
       "     'initials': 'A',\n",
       "     'pic': 'https://cdn.gomister.com/file/cdn-mister/users/61169327e9dce.png'},\n",
       "    'progression': {'1': {'points': 27, 'total': 27, 'position': 4},\n",
       "     '2': {'points': 35, 'total': 62, 'position': 7},\n",
       "     '3': {'points': 26, 'total': 88, 'position': 8},\n",
       "     '4': {'points': 33, 'total': 121, 'position': 8},\n",
       "     '5': {'points': 36, 'total': 157, 'position': 8},\n",
       "     '6': {'points': 48, 'total': 205, 'position': 7}},\n",
       "    'points': 205},\n",
       "   {'name': 'RulilloElPillo',\n",
       "    'color': '#BDBDBD',\n",
       "    'style': 'crossRot',\n",
       "    'avatar': {'color': '#BDBDBD',\n",
       "     'initials': 'R',\n",
       "     'pic': 'https://cdn.gomister.com/file/cdn-mister/users/6115266115965.png'},\n",
       "    'progression': {'1': {'points': 23, 'total': 23, 'position': 5},\n",
       "     '2': {'points': 28, 'total': 51, 'position': 9},\n",
       "     '3': {'points': 38, 'total': 89, 'position': 7},\n",
       "     '4': {'points': 37, 'total': 126, 'position': 7},\n",
       "     '5': {'points': 41, 'total': 167, 'position': 7},\n",
       "     '6': {'points': 35, 'total': 202, 'position': 8}},\n",
       "    'points': 202},\n",
       "   {'name': '_.jorgeortiz._',\n",
       "    'color': '#64B5F6',\n",
       "    'style': 'circle',\n",
       "    'avatar': {'color': '#64B5F6',\n",
       "     'initials': '_',\n",
       "     'pic': 'https://cdn.gomister.com/file/cdn-mister/users/636474009b0b0.png'},\n",
       "    'progression': {'1': {'points': 23, 'total': 23, 'position': 6},\n",
       "     '2': {'points': 36, 'total': 59, 'position': 8},\n",
       "     '3': {'points': 0, 'total': 59, 'position': 9},\n",
       "     '4': {'points': 35, 'total': 94, 'position': 9},\n",
       "     '5': {'points': 30, 'total': 124, 'position': 9},\n",
       "     '6': {'points': 59, 'total': 183, 'position': 9}},\n",
       "    'points': 183},\n",
       "   {'name': 'pablitoo',\n",
       "    'color': '#E0E0E0',\n",
       "    'style': 'circle',\n",
       "    'avatar': {'color': '#E0E0E0',\n",
       "     'initials': 'P',\n",
       "     'pic': 'https://cdn.gomister.com/file/cdn-mister/users/64f366c53ff78.png'},\n",
       "    'progression': {'4': {'points': 29, 'total': 29, 'position': 10},\n",
       "     '5': {'points': 27, 'total': 56, 'position': 10},\n",
       "     '6': {'points': 33, 'total': 89, 'position': 10}},\n",
       "    'points': 89}]}}"
      ]
     },
     "execution_count": 68,
     "metadata": {},
     "output_type": "execute_result"
    }
   ],
   "source": [
    "out = subprocess.run([\"bash\", \"curl.sh\"], stdout=subprocess.PIPE).stdout\n",
    "out = json.loads(out)\n",
    "out['data']"
   ]
  },
  {
   "cell_type": "code",
   "execution_count": 69,
   "id": "3a203a9d-54ea-40f5-a269-cbf317b7803f",
   "metadata": {},
   "outputs": [
    {
     "data": {
      "text/plain": [
       "6"
      ]
     },
     "execution_count": 69,
     "metadata": {},
     "output_type": "execute_result"
    }
   ],
   "source": [
    "NUM_JORNADAS = len(out['data']['progression']['gameweeks'])\n",
    "NUM_JORNADAS"
   ]
  },
  {
   "cell_type": "code",
   "execution_count": 70,
   "id": "a628fe4d-2256-4dd5-ac9b-7d9eb3e9f800",
   "metadata": {},
   "outputs": [
    {
     "data": {
      "text/plain": [
       "{'name': 'RulilloElPillo',\n",
       " 'color': '#BDBDBD',\n",
       " 'style': 'crossRot',\n",
       " 'avatar': {'color': '#BDBDBD',\n",
       "  'initials': 'R',\n",
       "  'pic': 'https://cdn.gomister.com/file/cdn-mister/users/6115266115965.png'},\n",
       " 'progression': {'1': {'points': 23, 'total': 23, 'position': 5},\n",
       "  '2': {'points': 28, 'total': 51, 'position': 9},\n",
       "  '3': {'points': 38, 'total': 89, 'position': 7},\n",
       "  '4': {'points': 37, 'total': 126, 'position': 7},\n",
       "  '5': {'points': 41, 'total': 167, 'position': 7},\n",
       "  '6': {'points': 35, 'total': 202, 'position': 8}},\n",
       " 'points': 202}"
      ]
     },
     "execution_count": 70,
     "metadata": {},
     "output_type": "execute_result"
    }
   ],
   "source": [
    "rulo = out['data']['progression']['users']['9002665']\n",
    "rulo"
   ]
  },
  {
   "cell_type": "code",
   "execution_count": 71,
   "id": "9830c774-3bb3-4c80-bdfb-bb5560e117e7",
   "metadata": {},
   "outputs": [
    {
     "data": {
      "text/html": [
       "<div>\n",
       "<style scoped>\n",
       "    .dataframe tbody tr th:only-of-type {\n",
       "        vertical-align: middle;\n",
       "    }\n",
       "\n",
       "    .dataframe tbody tr th {\n",
       "        vertical-align: top;\n",
       "    }\n",
       "\n",
       "    .dataframe thead th {\n",
       "        text-align: right;\n",
       "    }\n",
       "</style>\n",
       "<table border=\"1\" class=\"dataframe\">\n",
       "  <thead>\n",
       "    <tr style=\"text-align: right;\">\n",
       "      <th></th>\n",
       "      <th>points</th>\n",
       "      <th>total</th>\n",
       "      <th>position</th>\n",
       "      <th>Jornada</th>\n",
       "    </tr>\n",
       "  </thead>\n",
       "  <tbody>\n",
       "    <tr>\n",
       "      <th>1</th>\n",
       "      <td>23</td>\n",
       "      <td>23</td>\n",
       "      <td>5</td>\n",
       "      <td>1</td>\n",
       "    </tr>\n",
       "    <tr>\n",
       "      <th>2</th>\n",
       "      <td>28</td>\n",
       "      <td>51</td>\n",
       "      <td>9</td>\n",
       "      <td>2</td>\n",
       "    </tr>\n",
       "    <tr>\n",
       "      <th>3</th>\n",
       "      <td>38</td>\n",
       "      <td>89</td>\n",
       "      <td>7</td>\n",
       "      <td>3</td>\n",
       "    </tr>\n",
       "    <tr>\n",
       "      <th>4</th>\n",
       "      <td>37</td>\n",
       "      <td>126</td>\n",
       "      <td>7</td>\n",
       "      <td>4</td>\n",
       "    </tr>\n",
       "    <tr>\n",
       "      <th>5</th>\n",
       "      <td>41</td>\n",
       "      <td>167</td>\n",
       "      <td>7</td>\n",
       "      <td>5</td>\n",
       "    </tr>\n",
       "    <tr>\n",
       "      <th>6</th>\n",
       "      <td>35</td>\n",
       "      <td>202</td>\n",
       "      <td>8</td>\n",
       "      <td>6</td>\n",
       "    </tr>\n",
       "  </tbody>\n",
       "</table>\n",
       "</div>"
      ],
      "text/plain": [
       "   points  total  position  Jornada\n",
       "1      23     23         5        1\n",
       "2      28     51         9        2\n",
       "3      38     89         7        3\n",
       "4      37    126         7        4\n",
       "5      41    167         7        5\n",
       "6      35    202         8        6"
      ]
     },
     "execution_count": 71,
     "metadata": {},
     "output_type": "execute_result"
    }
   ],
   "source": [
    "df_rulo = pd.DataFrame.from_dict(rulo['progression'], orient=\"index\")\n",
    "df_rulo['Jornada'] = [ _ for _ in range(1,NUM_JORNADAS+1)]\n",
    "df_rulo"
   ]
  },
  {
   "cell_type": "code",
   "execution_count": 72,
   "id": "3770c06d-b1b2-418a-a60c-ff2485ef185e",
   "metadata": {},
   "outputs": [
    {
     "data": {
      "image/png": "[encoded data removed]",
      "text/plain": [
       "<Figure size 640x480 with 1 Axes>"
      ]
     },
     "metadata": {},
     "output_type": "display_data"
    }
   ],
   "source": [
    "line_rulo = sn.lineplot(data=df_rulo, y='position', x = 'Jornada')\n",
    "\n",
    "plot_rulo = line_rulo.axes\n",
    "plot_rulo.invert_yaxis()"
   ]
  },
  {
   "cell_type": "code",
   "execution_count": 73,
   "id": "0b53e5ef-20ce-4d12-95ba-db809a75857a",
   "metadata": {},
   "outputs": [
    {
     "data": {
      "text/plain": [
       "{'name': 'CORTIJO',\n",
       " 'color': '#BA68C8',\n",
       " 'style': 'star',\n",
       " 'avatar': {'color': '#BA68C8',\n",
       "  'initials': 'C',\n",
       "  'pic': 'https://cdn.gomister.com/file/cdn-mister/users/62cebe4f2ff73.png'},\n",
       " 'progression': {'1': {'points': 19, 'total': 19, 'position': 8},\n",
       "  '2': {'points': 48, 'total': 67, 'position': 6},\n",
       "  '3': {'points': 33, 'total': 100, 'position': 6},\n",
       "  '4': {'points': 43, 'total': 143, 'position': 6},\n",
       "  '5': {'points': 45, 'total': 188, 'position': 6},\n",
       "  '6': {'points': 33, 'total': 221, 'position': 6}},\n",
       " 'points': 221}"
      ]
     },
     "execution_count": 73,
     "metadata": {},
     "output_type": "execute_result"
    }
   ],
   "source": [
    "yo = out['data']['progression']['users']['9002689']\n",
    "yo"
   ]
  },
  {
   "cell_type": "code",
   "execution_count": 74,
   "id": "ba0358e5-29ed-4dac-8a4f-8e84798c8708",
   "metadata": {},
   "outputs": [
    {
     "data": {
      "text/html": [
       "<div>\n",
       "<style scoped>\n",
       "    .dataframe tbody tr th:only-of-type {\n",
       "        vertical-align: middle;\n",
       "    }\n",
       "\n",
       "    .dataframe tbody tr th {\n",
       "        vertical-align: top;\n",
       "    }\n",
       "\n",
       "    .dataframe thead th {\n",
       "        text-align: right;\n",
       "    }\n",
       "</style>\n",
       "<table border=\"1\" class=\"dataframe\">\n",
       "  <thead>\n",
       "    <tr style=\"text-align: right;\">\n",
       "      <th></th>\n",
       "      <th>points</th>\n",
       "      <th>total</th>\n",
       "      <th>position</th>\n",
       "      <th>Jornada</th>\n",
       "    </tr>\n",
       "  </thead>\n",
       "  <tbody>\n",
       "    <tr>\n",
       "      <th>1</th>\n",
       "      <td>19</td>\n",
       "      <td>19</td>\n",
       "      <td>8</td>\n",
       "      <td>1</td>\n",
       "    </tr>\n",
       "    <tr>\n",
       "      <th>2</th>\n",
       "      <td>48</td>\n",
       "      <td>67</td>\n",
       "      <td>6</td>\n",
       "      <td>2</td>\n",
       "    </tr>\n",
       "    <tr>\n",
       "      <th>3</th>\n",
       "      <td>33</td>\n",
       "      <td>100</td>\n",
       "      <td>6</td>\n",
       "      <td>3</td>\n",
       "    </tr>\n",
       "    <tr>\n",
       "      <th>4</th>\n",
       "      <td>43</td>\n",
       "      <td>143</td>\n",
       "      <td>6</td>\n",
       "      <td>4</td>\n",
       "    </tr>\n",
       "    <tr>\n",
       "      <th>5</th>\n",
       "      <td>45</td>\n",
       "      <td>188</td>\n",
       "      <td>6</td>\n",
       "      <td>5</td>\n",
       "    </tr>\n",
       "    <tr>\n",
       "      <th>6</th>\n",
       "      <td>33</td>\n",
       "      <td>221</td>\n",
       "      <td>6</td>\n",
       "      <td>6</td>\n",
       "    </tr>\n",
       "  </tbody>\n",
       "</table>\n",
       "</div>"
      ],
      "text/plain": [
       "   points  total  position  Jornada\n",
       "1      19     19         8        1\n",
       "2      48     67         6        2\n",
       "3      33    100         6        3\n",
       "4      43    143         6        4\n",
       "5      45    188         6        5\n",
       "6      33    221         6        6"
      ]
     },
     "execution_count": 74,
     "metadata": {},
     "output_type": "execute_result"
    }
   ],
   "source": [
    "df_corti = pd.DataFrame.from_dict(yo['progression'], orient=\"index\")\n",
    "df_corti['Jornada'] = [ _ for _ in range(1,NUM_JORNADAS+1)]\n",
    "df_corti"
   ]
  },
  {
   "cell_type": "code",
   "execution_count": 75,
   "id": "ee85c390-43fb-455c-a8e6-afbaaa11c6e8",
   "metadata": {},
   "outputs": [
    {
     "data": {
      "image/png": "[encoded data removed]",
      "text/plain": [
       "<Figure size 640x480 with 1 Axes>"
      ]
     },
     "metadata": {},
     "output_type": "display_data"
    }
   ],
   "source": [
    "line_corti = sn.lineplot(data=df_corti, y='position', x = 'Jornada')\n",
    "\n",
    "plot_corti = line_corti.axes\n",
    "plot_corti.invert_yaxis()"
   ]
  },
  {
   "cell_type": "code",
   "execution_count": 76,
   "id": "fbc6172e-c8b0-43e6-9f7c-0bf2a9b8cfb2",
   "metadata": {},
   "outputs": [
    {
     "data": {
      "text/plain": [
       "{'name': '_.jorgeortiz._',\n",
       " 'color': '#64B5F6',\n",
       " 'style': 'circle',\n",
       " 'avatar': {'color': '#64B5F6',\n",
       "  'initials': '_',\n",
       "  'pic': 'https://cdn.gomister.com/file/cdn-mister/users/636474009b0b0.png'},\n",
       " 'progression': {'1': {'points': 23, 'total': 23, 'position': 6},\n",
       "  '2': {'points': 36, 'total': 59, 'position': 8},\n",
       "  '3': {'points': 0, 'total': 59, 'position': 9},\n",
       "  '4': {'points': 35, 'total': 94, 'position': 9},\n",
       "  '5': {'points': 30, 'total': 124, 'position': 9},\n",
       "  '6': {'points': 59, 'total': 183, 'position': 9}},\n",
       " 'points': 183}"
      ]
     },
     "execution_count": 76,
     "metadata": {},
     "output_type": "execute_result"
    }
   ],
   "source": [
    "buje = out['data']['progression']['users']['9002697']\n",
    "buje"
   ]
  },
  {
   "cell_type": "code",
   "execution_count": 77,
   "id": "111becd7-0b84-4b72-a4d2-46538485e488",
   "metadata": {},
   "outputs": [
    {
     "data": {
      "text/html": [
       "<div>\n",
       "<style scoped>\n",
       "    .dataframe tbody tr th:only-of-type {\n",
       "        vertical-align: middle;\n",
       "    }\n",
       "\n",
       "    .dataframe tbody tr th {\n",
       "        vertical-align: top;\n",
       "    }\n",
       "\n",
       "    .dataframe thead th {\n",
       "        text-align: right;\n",
       "    }\n",
       "</style>\n",
       "<table border=\"1\" class=\"dataframe\">\n",
       "  <thead>\n",
       "    <tr style=\"text-align: right;\">\n",
       "      <th></th>\n",
       "      <th>points</th>\n",
       "      <th>total</th>\n",
       "      <th>position</th>\n",
       "      <th>Jornada</th>\n",
       "    </tr>\n",
       "  </thead>\n",
       "  <tbody>\n",
       "    <tr>\n",
       "      <th>1</th>\n",
       "      <td>23</td>\n",
       "      <td>23</td>\n",
       "      <td>6</td>\n",
       "      <td>1</td>\n",
       "    </tr>\n",
       "    <tr>\n",
       "      <th>2</th>\n",
       "      <td>36</td>\n",
       "      <td>59</td>\n",
       "      <td>8</td>\n",
       "      <td>2</td>\n",
       "    </tr>\n",
       "    <tr>\n",
       "      <th>3</th>\n",
       "      <td>0</td>\n",
       "      <td>59</td>\n",
       "      <td>9</td>\n",
       "      <td>3</td>\n",
       "    </tr>\n",
       "    <tr>\n",
       "      <th>4</th>\n",
       "      <td>35</td>\n",
       "      <td>94</td>\n",
       "      <td>9</td>\n",
       "      <td>4</td>\n",
       "    </tr>\n",
       "    <tr>\n",
       "      <th>5</th>\n",
       "      <td>30</td>\n",
       "      <td>124</td>\n",
       "      <td>9</td>\n",
       "      <td>5</td>\n",
       "    </tr>\n",
       "    <tr>\n",
       "      <th>6</th>\n",
       "      <td>59</td>\n",
       "      <td>183</td>\n",
       "      <td>9</td>\n",
       "      <td>6</td>\n",
       "    </tr>\n",
       "  </tbody>\n",
       "</table>\n",
       "</div>"
      ],
      "text/plain": [
       "   points  total  position  Jornada\n",
       "1      23     23         6        1\n",
       "2      36     59         8        2\n",
       "3       0     59         9        3\n",
       "4      35     94         9        4\n",
       "5      30    124         9        5\n",
       "6      59    183         9        6"
      ]
     },
     "execution_count": 77,
     "metadata": {},
     "output_type": "execute_result"
    }
   ],
   "source": [
    "df_buje = pd.DataFrame.from_dict(buje['progression'], orient=\"index\")\n",
    "df_buje['Jornada'] = [ _ for _ in range(1,NUM_JORNADAS+1)]\n",
    "df_buje"
   ]
  },
  {
   "cell_type": "code",
   "execution_count": 78,
   "id": "b1c0d00c-a410-4e05-81e2-3ca171795891",
   "metadata": {},
   "outputs": [
    {
     "data": {
      "image/png": "[encoded data removed]",
      "text/plain": [
       "<Figure size 640x480 with 1 Axes>"
      ]
     },
     "metadata": {},
     "output_type": "display_data"
    }
   ],
   "source": [
    "line_buje = sn.lineplot(data=df_buje, y='position', x = 'Jornada')\n",
    "\n",
    "plot_buje = line_buje.axes\n",
    "plot_buje.invert_yaxis()"
   ]
  },
  {
   "cell_type": "code",
   "execution_count": 79,
   "id": "da05845e-43f3-49d5-8f80-71097d74e5f1",
   "metadata": {},
   "outputs": [
    {
     "data": {
      "text/plain": [
       "{'name': 'Adri4K_Mister',\n",
       " 'color': '#FF8A65',\n",
       " 'style': 'star',\n",
       " 'avatar': {'color': '#FF8A65',\n",
       "  'initials': 'A',\n",
       "  'pic': 'https://cdn.gomister.com/file/cdn-mister/users/61169327e9dce.png'},\n",
       " 'progression': {'1': {'points': 27, 'total': 27, 'position': 4},\n",
       "  '2': {'points': 35, 'total': 62, 'position': 7},\n",
       "  '3': {'points': 26, 'total': 88, 'position': 8},\n",
       "  '4': {'points': 33, 'total': 121, 'position': 8},\n",
       "  '5': {'points': 36, 'total': 157, 'position': 8},\n",
       "  '6': {'points': 48, 'total': 205, 'position': 7}},\n",
       " 'points': 205}"
      ]
     },
     "execution_count": 79,
     "metadata": {},
     "output_type": "execute_result"
    }
   ],
   "source": [
    "adri4k = out['data']['progression']['users']['9002702']\n",
    "adri4k"
   ]
  },
  {
   "cell_type": "code",
   "execution_count": 80,
   "id": "e9938dec-07f9-40a2-b1f2-9e7089c11ad7",
   "metadata": {},
   "outputs": [
    {
     "data": {
      "text/html": [
       "<div>\n",
       "<style scoped>\n",
       "    .dataframe tbody tr th:only-of-type {\n",
       "        vertical-align: middle;\n",
       "    }\n",
       "\n",
       "    .dataframe tbody tr th {\n",
       "        vertical-align: top;\n",
       "    }\n",
       "\n",
       "    .dataframe thead th {\n",
       "        text-align: right;\n",
       "    }\n",
       "</style>\n",
       "<table border=\"1\" class=\"dataframe\">\n",
       "  <thead>\n",
       "    <tr style=\"text-align: right;\">\n",
       "      <th></th>\n",
       "      <th>points</th>\n",
       "      <th>total</th>\n",
       "      <th>position</th>\n",
       "      <th>Jornada</th>\n",
       "    </tr>\n",
       "  </thead>\n",
       "  <tbody>\n",
       "    <tr>\n",
       "      <th>1</th>\n",
       "      <td>27</td>\n",
       "      <td>27</td>\n",
       "      <td>4</td>\n",
       "      <td>1</td>\n",
       "    </tr>\n",
       "    <tr>\n",
       "      <th>2</th>\n",
       "      <td>35</td>\n",
       "      <td>62</td>\n",
       "      <td>7</td>\n",
       "      <td>2</td>\n",
       "    </tr>\n",
       "    <tr>\n",
       "      <th>3</th>\n",
       "      <td>26</td>\n",
       "      <td>88</td>\n",
       "      <td>8</td>\n",
       "      <td>3</td>\n",
       "    </tr>\n",
       "    <tr>\n",
       "      <th>4</th>\n",
       "      <td>33</td>\n",
       "      <td>121</td>\n",
       "      <td>8</td>\n",
       "      <td>4</td>\n",
       "    </tr>\n",
       "    <tr>\n",
       "      <th>5</th>\n",
       "      <td>36</td>\n",
       "      <td>157</td>\n",
       "      <td>8</td>\n",
       "      <td>5</td>\n",
       "    </tr>\n",
       "    <tr>\n",
       "      <th>6</th>\n",
       "      <td>48</td>\n",
       "      <td>205</td>\n",
       "      <td>7</td>\n",
       "      <td>6</td>\n",
       "    </tr>\n",
       "  </tbody>\n",
       "</table>\n",
       "</div>"
      ],
      "text/plain": [
       "   points  total  position  Jornada\n",
       "1      27     27         4        1\n",
       "2      35     62         7        2\n",
       "3      26     88         8        3\n",
       "4      33    121         8        4\n",
       "5      36    157         8        5\n",
       "6      48    205         7        6"
      ]
     },
     "execution_count": 80,
     "metadata": {},
     "output_type": "execute_result"
    }
   ],
   "source": [
    "df_adri4k = pd.DataFrame.from_dict(adri4k['progression'], orient=\"index\")\n",
    "df_adri4k['Jornada'] = [ _ for _ in range(1,NUM_JORNADAS+1)]\n",
    "df_adri4k"
   ]
  },
  {
   "cell_type": "code",
   "execution_count": 81,
   "id": "6c565e72-dd75-4eab-a566-700b81aab61d",
   "metadata": {},
   "outputs": [
    {
     "data": {
      "image/png": "[encoded data removed]",
      "text/plain": [
       "<Figure size 640x480 with 1 Axes>"
      ]
     },
     "metadata": {},
     "output_type": "display_data"
    }
   ],
   "source": [
    "line_adri4k = sn.lineplot(data=df_adri4k, y='position', x = 'Jornada')\n",
    "\n",
    "plot_adri4k = line_adri4k.axes\n",
    "plot_adri4k.invert_yaxis()"
   ]
  },
  {
   "cell_type": "code",
   "execution_count": 82,
   "id": "424e79ca-8765-4a1f-89a4-46881bc80aef",
   "metadata": {},
   "outputs": [
    {
     "data": {
      "text/plain": [
       "{'name': 'Frangf18',\n",
       " 'color': '#DCE775',\n",
       " 'style': 'crossRot',\n",
       " 'avatar': {'color': '#DCE775', 'initials': 'F', 'pic': None},\n",
       " 'progression': {'1': {'points': 44, 'total': 44, 'position': 2},\n",
       "  '2': {'points': 45, 'total': 89, 'position': 1},\n",
       "  '3': {'points': 53, 'total': 142, 'position': 1},\n",
       "  '4': {'points': 44, 'total': 186, 'position': 1},\n",
       "  '5': {'points': 66, 'total': 252, 'position': 1},\n",
       "  '6': {'points': 53, 'total': 305, 'position': 1}},\n",
       " 'points': 305}"
      ]
     },
     "execution_count": 82,
     "metadata": {},
     "output_type": "execute_result"
    }
   ],
   "source": [
    "fran = out['data']['progression']['users']['9002711']\n",
    "fran"
   ]
  },
  {
   "cell_type": "code",
   "execution_count": 83,
   "id": "9cbc70fa-4892-4fff-a4be-35627b4b54e5",
   "metadata": {},
   "outputs": [
    {
     "data": {
      "text/html": [
       "<div>\n",
       "<style scoped>\n",
       "    .dataframe tbody tr th:only-of-type {\n",
       "        vertical-align: middle;\n",
       "    }\n",
       "\n",
       "    .dataframe tbody tr th {\n",
       "        vertical-align: top;\n",
       "    }\n",
       "\n",
       "    .dataframe thead th {\n",
       "        text-align: right;\n",
       "    }\n",
       "</style>\n",
       "<table border=\"1\" class=\"dataframe\">\n",
       "  <thead>\n",
       "    <tr style=\"text-align: right;\">\n",
       "      <th></th>\n",
       "      <th>points</th>\n",
       "      <th>total</th>\n",
       "      <th>position</th>\n",
       "      <th>Jornada</th>\n",
       "    </tr>\n",
       "  </thead>\n",
       "  <tbody>\n",
       "    <tr>\n",
       "      <th>1</th>\n",
       "      <td>44</td>\n",
       "      <td>44</td>\n",
       "      <td>2</td>\n",
       "      <td>1</td>\n",
       "    </tr>\n",
       "    <tr>\n",
       "      <th>2</th>\n",
       "      <td>45</td>\n",
       "      <td>89</td>\n",
       "      <td>1</td>\n",
       "      <td>2</td>\n",
       "    </tr>\n",
       "    <tr>\n",
       "      <th>3</th>\n",
       "      <td>53</td>\n",
       "      <td>142</td>\n",
       "      <td>1</td>\n",
       "      <td>3</td>\n",
       "    </tr>\n",
       "    <tr>\n",
       "      <th>4</th>\n",
       "      <td>44</td>\n",
       "      <td>186</td>\n",
       "      <td>1</td>\n",
       "      <td>4</td>\n",
       "    </tr>\n",
       "    <tr>\n",
       "      <th>5</th>\n",
       "      <td>66</td>\n",
       "      <td>252</td>\n",
       "      <td>1</td>\n",
       "      <td>5</td>\n",
       "    </tr>\n",
       "    <tr>\n",
       "      <th>6</th>\n",
       "      <td>53</td>\n",
       "      <td>305</td>\n",
       "      <td>1</td>\n",
       "      <td>6</td>\n",
       "    </tr>\n",
       "  </tbody>\n",
       "</table>\n",
       "</div>"
      ],
      "text/plain": [
       "   points  total  position  Jornada\n",
       "1      44     44         2        1\n",
       "2      45     89         1        2\n",
       "3      53    142         1        3\n",
       "4      44    186         1        4\n",
       "5      66    252         1        5\n",
       "6      53    305         1        6"
      ]
     },
     "execution_count": 83,
     "metadata": {},
     "output_type": "execute_result"
    }
   ],
   "source": [
    "df_fran = pd.DataFrame.from_dict(fran['progression'], orient=\"index\")\n",
    "df_fran['Jornada'] = [ _ for _ in range(1,NUM_JORNADAS+1)]\n",
    "df_fran"
   ]
  },
  {
   "cell_type": "code",
   "execution_count": 84,
   "id": "e692d888-cb47-4345-aba5-3b3d8c95cb25",
   "metadata": {},
   "outputs": [
    {
     "data": {
      "image/png": "[encoded data removed]",
      "text/plain": [
       "<Figure size 640x480 with 1 Axes>"
      ]
     },
     "metadata": {},
     "output_type": "display_data"
    }
   ],
   "source": [
    "line_fran = sn.lineplot(data=df_fran, y='position', x = 'Jornada')\n",
    "\n",
    "plot_fran = line_fran.axes\n",
    "plot_fran.invert_yaxis()"
   ]
  },
  {
   "cell_type": "code",
   "execution_count": 85,
   "id": "a518bbb4-6dbd-4980-aaf0-c0e15ed95f23",
   "metadata": {},
   "outputs": [
    {
     "data": {
      "text/plain": [
       "{'name': 'Roberto',\n",
       " 'color': '#E0E0E0',\n",
       " 'style': 'rectRot',\n",
       " 'avatar': {'color': '#E0E0E0',\n",
       "  'initials': 'R',\n",
       "  'pic': 'https://cdn.gomister.com/file/cdn-mister/users/611798f16a8da.png'},\n",
       " 'progression': {'1': {'points': 51, 'total': 51, 'position': 1},\n",
       "  '2': {'points': 34, 'total': 85, 'position': 2},\n",
       "  '3': {'points': 47, 'total': 132, 'position': 2},\n",
       "  '4': {'points': 46, 'total': 178, 'position': 2},\n",
       "  '5': {'points': 16, 'total': 194, 'position': 5},\n",
       "  '6': {'points': 38, 'total': 232, 'position': 5}},\n",
       " 'points': 232}"
      ]
     },
     "execution_count": 85,
     "metadata": {},
     "output_type": "execute_result"
    }
   ],
   "source": [
    "ruper = out['data']['progression']['users']['9002717']\n",
    "ruper"
   ]
  },
  {
   "cell_type": "code",
   "execution_count": 86,
   "id": "84e4753b-cb31-4038-9918-3d51610ed98b",
   "metadata": {},
   "outputs": [
    {
     "data": {
      "text/html": [
       "<div>\n",
       "<style scoped>\n",
       "    .dataframe tbody tr th:only-of-type {\n",
       "        vertical-align: middle;\n",
       "    }\n",
       "\n",
       "    .dataframe tbody tr th {\n",
       "        vertical-align: top;\n",
       "    }\n",
       "\n",
       "    .dataframe thead th {\n",
       "        text-align: right;\n",
       "    }\n",
       "</style>\n",
       "<table border=\"1\" class=\"dataframe\">\n",
       "  <thead>\n",
       "    <tr style=\"text-align: right;\">\n",
       "      <th></th>\n",
       "      <th>points</th>\n",
       "      <th>total</th>\n",
       "      <th>position</th>\n",
       "      <th>Jornada</th>\n",
       "    </tr>\n",
       "  </thead>\n",
       "  <tbody>\n",
       "    <tr>\n",
       "      <th>1</th>\n",
       "      <td>51</td>\n",
       "      <td>51</td>\n",
       "      <td>1</td>\n",
       "      <td>1</td>\n",
       "    </tr>\n",
       "    <tr>\n",
       "      <th>2</th>\n",
       "      <td>34</td>\n",
       "      <td>85</td>\n",
       "      <td>2</td>\n",
       "      <td>2</td>\n",
       "    </tr>\n",
       "    <tr>\n",
       "      <th>3</th>\n",
       "      <td>47</td>\n",
       "      <td>132</td>\n",
       "      <td>2</td>\n",
       "      <td>3</td>\n",
       "    </tr>\n",
       "    <tr>\n",
       "      <th>4</th>\n",
       "      <td>46</td>\n",
       "      <td>178</td>\n",
       "      <td>2</td>\n",
       "      <td>4</td>\n",
       "    </tr>\n",
       "    <tr>\n",
       "      <th>5</th>\n",
       "      <td>16</td>\n",
       "      <td>194</td>\n",
       "      <td>5</td>\n",
       "      <td>5</td>\n",
       "    </tr>\n",
       "    <tr>\n",
       "      <th>6</th>\n",
       "      <td>38</td>\n",
       "      <td>232</td>\n",
       "      <td>5</td>\n",
       "      <td>6</td>\n",
       "    </tr>\n",
       "  </tbody>\n",
       "</table>\n",
       "</div>"
      ],
      "text/plain": [
       "   points  total  position  Jornada\n",
       "1      51     51         1        1\n",
       "2      34     85         2        2\n",
       "3      47    132         2        3\n",
       "4      46    178         2        4\n",
       "5      16    194         5        5\n",
       "6      38    232         5        6"
      ]
     },
     "execution_count": 86,
     "metadata": {},
     "output_type": "execute_result"
    }
   ],
   "source": [
    "df_ruper = pd.DataFrame.from_dict(ruper['progression'], orient=\"index\")\n",
    "df_ruper['Jornada'] = [ _ for _ in range(1,NUM_JORNADAS+1)]\n",
    "df_ruper"
   ]
  },
  {
   "cell_type": "code",
   "execution_count": 87,
   "id": "682138a1-8a50-4d2b-b10f-d8c54020de89",
   "metadata": {},
   "outputs": [
    {
     "data": {
      "image/png": "[encoded data removed]",
      "text/plain": [
       "<Figure size 640x480 with 1 Axes>"
      ]
     },
     "metadata": {},
     "output_type": "display_data"
    }
   ],
   "source": [
    "line_ruper = sn.lineplot(data=df_ruper, y='position', x = 'Jornada')\n",
    "\n",
    "plot_ruper = line_ruper.axes\n",
    "plot_ruper.invert_yaxis()"
   ]
  },
  {
   "cell_type": "code",
   "execution_count": 88,
   "id": "42f2e2eb-34d6-4412-8b2a-dc8eb335f0d6",
   "metadata": {},
   "outputs": [
    {
     "data": {
      "text/plain": [
       "{'name': 'AndresPB8',\n",
       " 'color': '#FFB74D',\n",
       " 'style': 'crossRot',\n",
       " 'avatar': {'color': '#FFB74D',\n",
       "  'initials': 'A',\n",
       "  'pic': 'https://cdn.gomister.com/file/cdn-mister/users/611eda8d0ee76.png'},\n",
       " 'progression': {'1': {'points': 20, 'total': 20, 'position': 7},\n",
       "  '2': {'points': 52, 'total': 72, 'position': 5},\n",
       "  '3': {'points': 36, 'total': 108, 'position': 5},\n",
       "  '4': {'points': 43, 'total': 151, 'position': 5},\n",
       "  '5': {'points': 48, 'total': 199, 'position': 4},\n",
       "  '6': {'points': 50, 'total': 249, 'position': 3}},\n",
       " 'points': 249}"
      ]
     },
     "execution_count": 88,
     "metadata": {},
     "output_type": "execute_result"
    }
   ],
   "source": [
    "andres = out['data']['progression']['users']['9002795']\n",
    "andres"
   ]
  },
  {
   "cell_type": "code",
   "execution_count": 89,
   "id": "5f0675c4-25ac-4996-afa8-87e00239fe3a",
   "metadata": {},
   "outputs": [
    {
     "data": {
      "text/html": [
       "<div>\n",
       "<style scoped>\n",
       "    .dataframe tbody tr th:only-of-type {\n",
       "        vertical-align: middle;\n",
       "    }\n",
       "\n",
       "    .dataframe tbody tr th {\n",
       "        vertical-align: top;\n",
       "    }\n",
       "\n",
       "    .dataframe thead th {\n",
       "        text-align: right;\n",
       "    }\n",
       "</style>\n",
       "<table border=\"1\" class=\"dataframe\">\n",
       "  <thead>\n",
       "    <tr style=\"text-align: right;\">\n",
       "      <th></th>\n",
       "      <th>points</th>\n",
       "      <th>total</th>\n",
       "      <th>position</th>\n",
       "      <th>Jornada</th>\n",
       "    </tr>\n",
       "  </thead>\n",
       "  <tbody>\n",
       "    <tr>\n",
       "      <th>1</th>\n",
       "      <td>20</td>\n",
       "      <td>20</td>\n",
       "      <td>7</td>\n",
       "      <td>1</td>\n",
       "    </tr>\n",
       "    <tr>\n",
       "      <th>2</th>\n",
       "      <td>52</td>\n",
       "      <td>72</td>\n",
       "      <td>5</td>\n",
       "      <td>2</td>\n",
       "    </tr>\n",
       "    <tr>\n",
       "      <th>3</th>\n",
       "      <td>36</td>\n",
       "      <td>108</td>\n",
       "      <td>5</td>\n",
       "      <td>3</td>\n",
       "    </tr>\n",
       "    <tr>\n",
       "      <th>4</th>\n",
       "      <td>43</td>\n",
       "      <td>151</td>\n",
       "      <td>5</td>\n",
       "      <td>4</td>\n",
       "    </tr>\n",
       "    <tr>\n",
       "      <th>5</th>\n",
       "      <td>48</td>\n",
       "      <td>199</td>\n",
       "      <td>4</td>\n",
       "      <td>5</td>\n",
       "    </tr>\n",
       "    <tr>\n",
       "      <th>6</th>\n",
       "      <td>50</td>\n",
       "      <td>249</td>\n",
       "      <td>3</td>\n",
       "      <td>6</td>\n",
       "    </tr>\n",
       "  </tbody>\n",
       "</table>\n",
       "</div>"
      ],
      "text/plain": [
       "   points  total  position  Jornada\n",
       "1      20     20         7        1\n",
       "2      52     72         5        2\n",
       "3      36    108         5        3\n",
       "4      43    151         5        4\n",
       "5      48    199         4        5\n",
       "6      50    249         3        6"
      ]
     },
     "execution_count": 89,
     "metadata": {},
     "output_type": "execute_result"
    }
   ],
   "source": [
    "df_andres = pd.DataFrame.from_dict(andres['progression'], orient=\"index\")\n",
    "df_andres['Jornada'] = [ _ for _ in range(1,NUM_JORNADAS+1)]\n",
    "df_andres"
   ]
  },
  {
   "cell_type": "code",
   "execution_count": 90,
   "id": "065448bd-74a6-4b95-a717-f1703ab2f014",
   "metadata": {},
   "outputs": [
    {
     "data": {
      "image/png": "[encoded data removed]",
      "text/plain": [
       "<Figure size 640x480 with 1 Axes>"
      ]
     },
     "metadata": {},
     "output_type": "display_data"
    }
   ],
   "source": [
    "line_andres = sn.lineplot(data=df_andres, y='position', x = 'Jornada')\n",
    "\n",
    "plot_andres = line_andres.axes\n",
    "plot_andres.invert_yaxis()"
   ]
  },
  {
   "cell_type": "code",
   "execution_count": 91,
   "id": "3ebafb6c-a2e1-4d74-a312-187b6b08719e",
   "metadata": {},
   "outputs": [
    {
     "data": {
      "text/plain": [
       "{'name': 'juamonchi',\n",
       " 'color': '#FF8A65',\n",
       " 'style': 'crossRot',\n",
       " 'avatar': {'color': '#FF8A65',\n",
       "  'initials': 'J',\n",
       "  'pic': 'https://cdn.gomister.com/file/cdn-mister/users/611797f01858e.png'},\n",
       " 'progression': {'1': {'points': 44, 'total': 44, 'position': 3},\n",
       "  '2': {'points': 32, 'total': 76, 'position': 4},\n",
       "  '3': {'points': 44, 'total': 120, 'position': 4},\n",
       "  '4': {'points': 41, 'total': 161, 'position': 4},\n",
       "  '5': {'points': 54, 'total': 215, 'position': 3},\n",
       "  '6': {'points': 30, 'total': 245, 'position': 4}},\n",
       " 'points': 245}"
      ]
     },
     "execution_count": 91,
     "metadata": {},
     "output_type": "execute_result"
    }
   ],
   "source": [
    "julia = out['data']['progression']['users']['9003089']\n",
    "julia"
   ]
  },
  {
   "cell_type": "code",
   "execution_count": 92,
   "id": "7073271c-63a9-4c51-9a25-41bab5186942",
   "metadata": {},
   "outputs": [
    {
     "data": {
      "text/html": [
       "<div>\n",
       "<style scoped>\n",
       "    .dataframe tbody tr th:only-of-type {\n",
       "        vertical-align: middle;\n",
       "    }\n",
       "\n",
       "    .dataframe tbody tr th {\n",
       "        vertical-align: top;\n",
       "    }\n",
       "\n",
       "    .dataframe thead th {\n",
       "        text-align: right;\n",
       "    }\n",
       "</style>\n",
       "<table border=\"1\" class=\"dataframe\">\n",
       "  <thead>\n",
       "    <tr style=\"text-align: right;\">\n",
       "      <th></th>\n",
       "      <th>points</th>\n",
       "      <th>total</th>\n",
       "      <th>position</th>\n",
       "      <th>Jornada</th>\n",
       "    </tr>\n",
       "  </thead>\n",
       "  <tbody>\n",
       "    <tr>\n",
       "      <th>1</th>\n",
       "      <td>44</td>\n",
       "      <td>44</td>\n",
       "      <td>3</td>\n",
       "      <td>1</td>\n",
       "    </tr>\n",
       "    <tr>\n",
       "      <th>2</th>\n",
       "      <td>32</td>\n",
       "      <td>76</td>\n",
       "      <td>4</td>\n",
       "      <td>2</td>\n",
       "    </tr>\n",
       "    <tr>\n",
       "      <th>3</th>\n",
       "      <td>44</td>\n",
       "      <td>120</td>\n",
       "      <td>4</td>\n",
       "      <td>3</td>\n",
       "    </tr>\n",
       "    <tr>\n",
       "      <th>4</th>\n",
       "      <td>41</td>\n",
       "      <td>161</td>\n",
       "      <td>4</td>\n",
       "      <td>4</td>\n",
       "    </tr>\n",
       "    <tr>\n",
       "      <th>5</th>\n",
       "      <td>54</td>\n",
       "      <td>215</td>\n",
       "      <td>3</td>\n",
       "      <td>5</td>\n",
       "    </tr>\n",
       "    <tr>\n",
       "      <th>6</th>\n",
       "      <td>30</td>\n",
       "      <td>245</td>\n",
       "      <td>4</td>\n",
       "      <td>6</td>\n",
       "    </tr>\n",
       "  </tbody>\n",
       "</table>\n",
       "</div>"
      ],
      "text/plain": [
       "   points  total  position  Jornada\n",
       "1      44     44         3        1\n",
       "2      32     76         4        2\n",
       "3      44    120         4        3\n",
       "4      41    161         4        4\n",
       "5      54    215         3        5\n",
       "6      30    245         4        6"
      ]
     },
     "execution_count": 92,
     "metadata": {},
     "output_type": "execute_result"
    }
   ],
   "source": [
    "df_julia = pd.DataFrame.from_dict(julia['progression'], orient=\"index\")\n",
    "df_julia['Jornada'] = [ _ for _ in range(1,NUM_JORNADAS+1)]\n",
    "df_julia"
   ]
  },
  {
   "cell_type": "code",
   "execution_count": 93,
   "id": "2afa1ff6-38ef-4901-b18f-0617cb32d16f",
   "metadata": {},
   "outputs": [
    {
     "data": {
      "image/png": "[encoded data removed]",
      "text/plain": [
       "<Figure size 640x480 with 1 Axes>"
      ]
     },
     "metadata": {},
     "output_type": "display_data"
    }
   ],
   "source": [
    "line_julia = sn.lineplot(data=df_julia, y='position', x = 'Jornada')\n",
    "\n",
    "plot_julia = line_julia.axes\n",
    "plot_julia.invert_yaxis()"
   ]
  },
  {
   "cell_type": "code",
   "execution_count": 94,
   "id": "657fdcb4-88fb-494b-969e-d11b156d38c9",
   "metadata": {},
   "outputs": [
    {
     "data": {
      "text/plain": [
       "{'name': 'Juan Carlos ',\n",
       " 'color': '#E0E0E0',\n",
       " 'style': 'star',\n",
       " 'avatar': {'color': '#E0E0E0',\n",
       "  'initials': 'JC',\n",
       "  'pic': 'https://cdn.gomister.com/file/cdn-mister/users/64d4bce548ef5.png'},\n",
       " 'progression': {'1': {'points': 13, 'total': 13, 'position': 9},\n",
       "  '2': {'points': 64, 'total': 77, 'position': 3},\n",
       "  '3': {'points': 53, 'total': 130, 'position': 3},\n",
       "  '4': {'points': 37, 'total': 167, 'position': 3},\n",
       "  '5': {'points': 73, 'total': 240, 'position': 2},\n",
       "  '6': {'points': 57, 'total': 297, 'position': 2}},\n",
       " 'points': 297}"
      ]
     },
     "execution_count": 94,
     "metadata": {},
     "output_type": "execute_result"
    }
   ],
   "source": [
    "jc = out['data']['progression']['users']['12365255']\n",
    "jc"
   ]
  },
  {
   "cell_type": "code",
   "execution_count": 95,
   "id": "26ca566e-8e67-43cb-a631-eae13f9a7ec8",
   "metadata": {},
   "outputs": [
    {
     "data": {
      "text/html": [
       "<div>\n",
       "<style scoped>\n",
       "    .dataframe tbody tr th:only-of-type {\n",
       "        vertical-align: middle;\n",
       "    }\n",
       "\n",
       "    .dataframe tbody tr th {\n",
       "        vertical-align: top;\n",
       "    }\n",
       "\n",
       "    .dataframe thead th {\n",
       "        text-align: right;\n",
       "    }\n",
       "</style>\n",
       "<table border=\"1\" class=\"dataframe\">\n",
       "  <thead>\n",
       "    <tr style=\"text-align: right;\">\n",
       "      <th></th>\n",
       "      <th>points</th>\n",
       "      <th>total</th>\n",
       "      <th>position</th>\n",
       "      <th>Jornada</th>\n",
       "    </tr>\n",
       "  </thead>\n",
       "  <tbody>\n",
       "    <tr>\n",
       "      <th>1</th>\n",
       "      <td>13</td>\n",
       "      <td>13</td>\n",
       "      <td>9</td>\n",
       "      <td>1</td>\n",
       "    </tr>\n",
       "    <tr>\n",
       "      <th>2</th>\n",
       "      <td>64</td>\n",
       "      <td>77</td>\n",
       "      <td>3</td>\n",
       "      <td>2</td>\n",
       "    </tr>\n",
       "    <tr>\n",
       "      <th>3</th>\n",
       "      <td>53</td>\n",
       "      <td>130</td>\n",
       "      <td>3</td>\n",
       "      <td>3</td>\n",
       "    </tr>\n",
       "    <tr>\n",
       "      <th>4</th>\n",
       "      <td>37</td>\n",
       "      <td>167</td>\n",
       "      <td>3</td>\n",
       "      <td>4</td>\n",
       "    </tr>\n",
       "    <tr>\n",
       "      <th>5</th>\n",
       "      <td>73</td>\n",
       "      <td>240</td>\n",
       "      <td>2</td>\n",
       "      <td>5</td>\n",
       "    </tr>\n",
       "    <tr>\n",
       "      <th>6</th>\n",
       "      <td>57</td>\n",
       "      <td>297</td>\n",
       "      <td>2</td>\n",
       "      <td>6</td>\n",
       "    </tr>\n",
       "  </tbody>\n",
       "</table>\n",
       "</div>"
      ],
      "text/plain": [
       "   points  total  position  Jornada\n",
       "1      13     13         9        1\n",
       "2      64     77         3        2\n",
       "3      53    130         3        3\n",
       "4      37    167         3        4\n",
       "5      73    240         2        5\n",
       "6      57    297         2        6"
      ]
     },
     "execution_count": 95,
     "metadata": {},
     "output_type": "execute_result"
    }
   ],
   "source": [
    "df_jc = pd.DataFrame.from_dict(jc['progression'], orient=\"index\")\n",
    "df_jc['Jornada'] = [ _ for _ in range(1,NUM_JORNADAS+1)]\n",
    "df_jc"
   ]
  },
  {
   "cell_type": "code",
   "execution_count": 96,
   "id": "6645143d-d097-4669-a501-c277c278dbcd",
   "metadata": {},
   "outputs": [
    {
     "data": {
      "image/png": "[encoded data removed]",
      "text/plain": [
       "<Figure size 640x480 with 1 Axes>"
      ]
     },
     "metadata": {},
     "output_type": "display_data"
    }
   ],
   "source": [
    "line_jc = sn.lineplot(data=df_jc, y='position', x = 'Jornada')\n",
    "\n",
    "plot_jc = line_jc.axes\n",
    "plot_jc.invert_yaxis()"
   ]
  },
  {
   "cell_type": "code",
   "execution_count": 97,
   "id": "5a200b38-1413-4da2-9ff6-1137e14871ed",
   "metadata": {},
   "outputs": [
    {
     "data": {
      "text/plain": [
       "{'name': 'pablitoo',\n",
       " 'color': '#E0E0E0',\n",
       " 'style': 'circle',\n",
       " 'avatar': {'color': '#E0E0E0',\n",
       "  'initials': 'P',\n",
       "  'pic': 'https://cdn.gomister.com/file/cdn-mister/users/64f366c53ff78.png'},\n",
       " 'progression': {'4': {'points': 29, 'total': 29, 'position': 10},\n",
       "  '5': {'points': 27, 'total': 56, 'position': 10},\n",
       "  '6': {'points': 33, 'total': 89, 'position': 10}},\n",
       " 'points': 89}"
      ]
     },
     "execution_count": 97,
     "metadata": {},
     "output_type": "execute_result"
    }
   ],
   "source": [
    "pablito = out['data']['progression']['users']['12505301']\n",
    "pablito"
   ]
  },
  {
   "cell_type": "code",
   "execution_count": 98,
   "id": "32336c92-a1a2-4c1b-b2cc-b1b2fdb6a4ce",
   "metadata": {},
   "outputs": [
    {
     "data": {
      "text/html": [
       "<div>\n",
       "<style scoped>\n",
       "    .dataframe tbody tr th:only-of-type {\n",
       "        vertical-align: middle;\n",
       "    }\n",
       "\n",
       "    .dataframe tbody tr th {\n",
       "        vertical-align: top;\n",
       "    }\n",
       "\n",
       "    .dataframe thead th {\n",
       "        text-align: right;\n",
       "    }\n",
       "</style>\n",
       "<table border=\"1\" class=\"dataframe\">\n",
       "  <thead>\n",
       "    <tr style=\"text-align: right;\">\n",
       "      <th></th>\n",
       "      <th>points</th>\n",
       "      <th>total</th>\n",
       "      <th>position</th>\n",
       "      <th>Jornada</th>\n",
       "    </tr>\n",
       "  </thead>\n",
       "  <tbody>\n",
       "    <tr>\n",
       "      <th>4</th>\n",
       "      <td>29</td>\n",
       "      <td>29</td>\n",
       "      <td>10</td>\n",
       "      <td>1</td>\n",
       "    </tr>\n",
       "    <tr>\n",
       "      <th>5</th>\n",
       "      <td>27</td>\n",
       "      <td>56</td>\n",
       "      <td>10</td>\n",
       "      <td>2</td>\n",
       "    </tr>\n",
       "    <tr>\n",
       "      <th>6</th>\n",
       "      <td>33</td>\n",
       "      <td>89</td>\n",
       "      <td>10</td>\n",
       "      <td>3</td>\n",
       "    </tr>\n",
       "  </tbody>\n",
       "</table>\n",
       "</div>"
      ],
      "text/plain": [
       "   points  total  position  Jornada\n",
       "4      29     29        10        1\n",
       "5      27     56        10        2\n",
       "6      33     89        10        3"
      ]
     },
     "execution_count": 98,
     "metadata": {},
     "output_type": "execute_result"
    }
   ],
   "source": [
    "df_pablito = pd.DataFrame.from_dict(pablito['progression'], orient=\"index\")\n",
    "df_pablito['Jornada'] = [ _ for _ in range(1,NUM_JORNADAS+1-3)]\n",
    "df_pablito"
   ]
  },
  {
   "cell_type": "code",
   "execution_count": 99,
   "id": "12c4f735-3ab1-4456-9786-840ce9ee586e",
   "metadata": {},
   "outputs": [
    {
     "data": {
      "image/png": "[encoded data removed]",
      "text/plain": [
       "<Figure size 640x480 with 1 Axes>"
      ]
     },
     "metadata": {},
     "output_type": "display_data"
    }
   ],
   "source": [
    "line_pablito = sn.lineplot(data=df_pablito, y='position', x = 'Jornada')\n",
    "\n",
    "plot_pablito = line_pablito.axes\n",
    "plot_pablito.invert_yaxis()"
   ]
  }
 ],
 "metadata": {
  "kernelspec": {
   "display_name": "Python 3 (ipykernel)",
   "language": "python",
   "name": "python3"
  },
  "language_info": {
   "codemirror_mode": {
    "name": "ipython",
    "version": 3
   },
   "file_extension": ".py",
   "mimetype": "text/x-python",
   "name": "python",
   "nbconvert_exporter": "python",
   "pygments_lexer": "ipython3",
   "version": "3.8.13"
  }
 },
 "nbformat": 4,
 "nbformat_minor": 5
}
